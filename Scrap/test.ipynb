{
 "cells": [
  {
   "cell_type": "code",
   "execution_count": 18,
   "id": "ebeaab32",
   "metadata": {},
   "outputs": [],
   "source": [
    "from bs4 import BeautifulSoup as bs\n",
    "from selenium import webdriver\n",
    "#driver = webdriver.Firefox(executable_path=r'C:\\Users\\Julie\\AppData\\Local\\Selenium\\geckodriver\\geckodriver.exe')\n",
    "\n",
    "url = \"https://www.edreams.fr/travel/#results/type=O;dep=2021-09-09;from=PAR;to=MRS;internalSearch=true\"\n",
    "\n",
    "driver = webdriver.Firefox(executable_path=r'C:\\Users\\JulienDECOT\\AppData\\Local\\Selenium\\geckodriver.exe')\n",
    "\n",
    "async def recup():\n",
    "    reponse = await driver.get(url)\n",
    "    html = driver.page_source\n",
    "    soup = bs(html)\n",
    "    return reponse\n"
   ]
  },
  {
   "cell_type": "code",
   "execution_count": 20,
   "id": "da8278ab",
   "metadata": {},
   "outputs": [],
   "source": [
    "conteneur_main = soup.find(class_=\"of_autos-itinerary-non-prime-price\")\n"
   ]
  },
  {
   "cell_type": "code",
   "execution_count": 21,
   "id": "195c17c3",
   "metadata": {},
   "outputs": [
    {
     "name": "stdout",
     "output_type": "stream",
     "text": [
      "None\n"
     ]
    }
   ],
   "source": [
    "print(conteneur_main)"
   ]
  }
 ],
 "metadata": {
  "kernelspec": {
   "display_name": "Python 3 (ipykernel)",
   "language": "python",
   "name": "python3"
  },
  "language_info": {
   "codemirror_mode": {
    "name": "ipython",
    "version": 3
   },
   "file_extension": ".py",
   "mimetype": "text/x-python",
   "name": "python",
   "nbconvert_exporter": "python",
   "pygments_lexer": "ipython3",
   "version": "3.9.6"
  }
 },
 "nbformat": 4,
 "nbformat_minor": 5
}
