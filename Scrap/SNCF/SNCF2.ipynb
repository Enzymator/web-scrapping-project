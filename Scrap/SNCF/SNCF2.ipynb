{
 "cells": [
  {
   "cell_type": "code",
   "execution_count": 33,
   "id": "276707f7",
   "metadata": {},
   "outputs": [
    {
     "name": "stdout",
     "output_type": "stream",
     "text": [
      "Page is ready!\n",
      "[\"Trajets Suggérés\\nMode de transport\\nTrajet conseillé\\n14:34\\n18:01\\nOUIGO\\n3h27\\n3 heures 27\\n Le plus rapide\\n14:07\\n17:11\\nTGV INOUI\\n3h04\\n3 heures 04\\n Autres Itinéraires\\n10:12\\n14:18\\nTGV INOUI\\nTGV INOUI\\n4h06\\n4 heures 06\\n  11:36\\n14:57\\nTGV INOUI\\n3h21\\n3 heures 21\\n  11:51\\n15:45\\nTGV INOUI\\nTGV INOUI\\n3h54\\n3 heures 54\\n  12:35\\n15:53\\nOUIGO\\n3h18\\n3 heures 18\\n Affichez plus d'itinéraires\"]\n"
     ]
    }
   ],
   "source": [
    "from bs4 import BeautifulSoup as bs\n",
    "from selenium import webdriver\n",
    "\n",
    "from selenium.webdriver.support.ui import WebDriverWait\n",
    "from selenium.webdriver.common.by import By\n",
    "from selenium.webdriver.support import expected_conditions as EC\n",
    "from selenium.common.exceptions import TimeoutException\n",
    "\n",
    "driver = webdriver.Firefox(executable_path=r'C:\\Users\\JulienDECOT\\AppData\\Local\\Selenium\\geckodriver.exe')\n",
    "delai = 5 # secondes de délai avant de télécharger\n",
    "\n",
    "url = \"https://www.sncf.com/fr/itineraire-reservation/itineraire/liste-resultats?uic1=75056&coordX1=2.34445&coordY1=48.86&uic2=13055&coordX2=5.37639&coordY2=43.2967&date=1631204723&when=arrive-at&label1=Paris%20(Toutes%20gares)&label2=Marseille%20(Toutes%20gares)&typeDepart=COMMUNE&typeArrivee=COMMUNE&listeCodesMode=0,1,2,3,4,5,6,7,8,9&origineCP=&destinationCP=\"\n",
    "\n",
    "driver.get(url)\n",
    "\n",
    "try:\n",
    "    WebDriverWait(driver, delai).until(EC.visibility_of_element_located((By.CSS_SELECTOR, \".itinerary-results-section\"))) \n",
    "    print (\"Page is ready!\")\n",
    "    # extraction\n",
    "    listElements = driver.find_elements_by_css_selector(\".itinerary-results-section\")\n",
    "    listNames = [] # Creating an empty list and then appending only the elements texts\n",
    "    for el in listElements:\n",
    "        listNames.append(el.text)\n",
    "    scrapedInfo = {}\n",
    "    scrapedInfo['editorial-list'] = listNames # Adding the editorial list names to our scrapedInfo dictionary\n",
    " \n",
    "    print(listNames)\n",
    "   # for image in driver.find_elements_by_xpath('..//img[@src]'):\n",
    "   #     print image.get_attribute('src')\n",
    "except TimeoutException:\n",
    "    print (\"Couldn't load page\")\n",
    "\n",
    "html = driver.page_source\n",
    "soup = bs(html)\n",
    "driver.close()"
   ]
  },
  {
   "cell_type": "code",
   "execution_count": 7,
   "id": "d8d8c594",
   "metadata": {},
   "outputs": [],
   "source": []
  }
 ],
 "metadata": {
  "kernelspec": {
   "display_name": "Python 3 (ipykernel)",
   "language": "python",
   "name": "python3"
  },
  "language_info": {
   "codemirror_mode": {
    "name": "ipython",
    "version": 3
   },
   "file_extension": ".py",
   "mimetype": "text/x-python",
   "name": "python",
   "nbconvert_exporter": "python",
   "pygments_lexer": "ipython3",
   "version": "3.9.6"
  }
 },
 "nbformat": 4,
 "nbformat_minor": 5
}
