{
 "cells": [
  {
   "cell_type": "code",
   "execution_count": 3,
   "metadata": {},
   "outputs": [
    {
     "name": "stdout",
     "output_type": "stream",
     "text": [
      "Page is ready!\n",
      "[\"Trajets Suggérés\\nMode de transport\\nTrajet conseillé\\n20:52\\n06:18\\nIntercités de nuit\\n9h26\\n9 heures 26\\n Mercredi 15 Septembre\\n06:00\\n09:25\\nOUIGO\\n3h25\\n3 heures 25\\n  06:09\\n10:29\\nOUIGO\\nIntercités\\n4h20\\n4 heures 20\\n Retard sur OUIGO N° 7871\\n07:15\\n10:50\\nOUIGO\\nTGV INOUI\\n3h35\\n3 heures 35\\n  07:38\\n10:57\\nTGV INOUI\\n3h19\\n3 heures 19\\n  09:07\\n12:11\\nTGV INOUI\\n3h04\\n3 heures 04\\n Affichez plus d'itinéraires\"]\n"
     ]
    }
   ],
   "source": [
    "from bs4 import BeautifulSoup as bs\n",
    "from selenium import webdriver\n",
    "\n",
    "from selenium.webdriver.support.ui import WebDriverWait\n",
    "from selenium.webdriver.common.by import By\n",
    "from selenium.webdriver.support import expected_conditions as EC\n",
    "from selenium.common.exceptions import TimeoutException\n",
    "\n",
    "# driver = webdriver.Firefox(executable_path=r'C:\\Users\\JulienDECOT\\AppData\\Local\\Selenium\\geckodriver.exe')\n",
    "driver = webdriver.Firefox(executable_path=r'C:\\Users\\Julie\\AppData\\Local\\Selenium\\geckodriver\\geckodriver.exe')\n",
    "\n",
    "\n",
    "delai = 5 # secondes de délai avant de télécharger\n",
    "\n",
    "url = \"https://www.sncf.com/fr/itineraire-reservation/itineraire/liste-resultats?uic1=75056&coordX1=2.34445&coordY1=48.86&uic2=13055&coordX2=5.37639&coordY2=43.2967&date=1631642285&when=leave-at&label1=Paris%20(Toutes%20gares)&label2=Marseille%20(Toutes%20gares)&typeDepart=COMMUNE&typeArrivee=COMMUNE&listeCodesMode=0,1,2,3,4,5,6,7,8,9&origineCP=&destinationCP=\"\n",
    "driver.get(url)\n",
    "\n",
    "try:\n",
    "    WebDriverWait(driver, delai).until(EC.visibility_of_element_located((By.CSS_SELECTOR, \".itinerary-results-section\"))) \n",
    "    print (\"Page is ready!\")\n",
    "    # extraction\n",
    "    listElements = driver.find_elements_by_css_selector(\".itinerary-results-section\")\n",
    "    listNames = [] # Creating an empty list and then appending only the elements texts\n",
    "    for el in listElements:\n",
    "        listNames.append(el.text)\n",
    "    scrapedInfo = {}\n",
    "    scrapedInfo['editorial-list'] = listNames # Adding the editorial list names to our scrapedInfo dictionary\n",
    " \n",
    "    print(listNames)\n",
    "   # for image in driver.find_elements_by_xpath('..//img[@src]'):\n",
    "   #     print image.get_attribute('src')\n",
    "except TimeoutException:\n",
    "    print (\"Couldn't load page\")\n",
    "\n",
    "html = driver.page_source\n",
    "soup = bs(html)\n",
    "driver.close()"
   ]
  },
  {
   "cell_type": "code",
   "execution_count": 7,
   "metadata": {},
   "outputs": [],
   "source": []
  }
 ],
 "metadata": {
  "kernelspec": {
   "display_name": "Python 3",
   "language": "python",
   "name": "python3"
  },
  "language_info": {
   "codemirror_mode": {
    "name": "ipython",
    "version": 3
   },
   "file_extension": ".py",
   "mimetype": "text/x-python",
   "name": "python",
   "nbconvert_exporter": "python",
   "pygments_lexer": "ipython3",
   "version": "3.9.4"
  }
 },
 "nbformat": 4,
 "nbformat_minor": 5
}
