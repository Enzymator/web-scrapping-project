{
 "cells": [
  {
   "cell_type": "code",
   "execution_count": 2,
   "source": [
    "pip install --upgrade pip\r\n",
    "pip install selenium"
   ],
   "outputs": [
    {
     "output_type": "stream",
     "name": "stdout",
     "text": [
      "Collecting pip\n",
      "  Downloading pip-21.2.4-py3-none-any.whl (1.6 MB)\n",
      "Installing collected packages: pip\n",
      "  Attempting uninstall: pip\n",
      "    Found existing installation: pip 20.2.4\n",
      "    Uninstalling pip-20.2.4:\n",
      "      Successfully uninstalled pip-20.2.4\n",
      "Successfully installed pip-21.2.4\n",
      "Note: you may need to restart the kernel to use updated packages.\n"
     ]
    }
   ],
   "metadata": {}
  },
  {
   "cell_type": "code",
   "execution_count": 3,
   "source": [],
   "outputs": [
    {
     "output_type": "stream",
     "name": "stdout",
     "text": [
      "Requirement already satisfied: selenium in d:\\python39\\lib\\site-packages (3.141.0)\n",
      "Requirement already satisfied: urllib3 in d:\\python39\\lib\\site-packages (from selenium) (1.26.4)\n",
      "Note: you may need to restart the kernel to use updated packages.\n"
     ]
    }
   ],
   "metadata": {}
  },
  {
   "cell_type": "code",
   "execution_count": 6,
   "source": [
    "from selenium import webdriver\r\n",
    "from selenium.webdriver.common.keys import Keys\r\n",
    "\r\n",
    "driver.get(\"http://www.python.org\")\r\n",
    "assert \"Python\" in driver.title\r\n",
    "elem = driver.find_element_by_name(\"q\")\r\n",
    "elem.clear()\r\n",
    "elem.send_keys(\"pycon\")\r\n",
    "elem.send_keys(Keys.RETURN)\r\n",
    "assert \"No results found.\" not in driver.page_source\r\n",
    "driver.close()"
   ],
   "outputs": [],
   "metadata": {}
  },
  {
   "cell_type": "code",
   "execution_count": 9,
   "source": [
    "from bs4 import BeautifulSoup as bs\r\n",
    "from selenium import webdriver\r\n",
    "driver = webdriver.Firefox(executable_path=r'C:\\Users\\Julie\\AppData\\Local\\Selenium\\geckodriver\\geckodriver.exe')\r\n",
    "\r\n",
    "url = \"https://www.blablacar.fr/search?fn=Paris%2C%20France&fc=48.856614%2C2.352221&fcc=FR&formatted_from=Paris&tn=Marseille%2C%20France&tc=43.296482%2C5.36978&tcc=FR&formatted_to=Marseille&db=2021-09-09&departure_location_id=eyJpIjoiQ2hJSkQ3ZmlCaDl1NWtjUllKU01hTU9DQ3dRIiwicCI6MSwidiI6MSwidCI6W119&arrival_location_id=eyJpIjoiQ2hJSk0xUGFSRU9feVJJUklBS1hfYVVaQ0FRIiwicCI6MSwidiI6MSwidCI6W119&departure_city=Paris&arrival_city=Marseille&seats=1&searchOrigin=search_edit\"\r\n",
    "\r\n",
    "driver.get(url)\r\n",
    "\r\n",
    "html = driver.page_source\r\n",
    "soup = bs(html)"
   ],
   "outputs": [],
   "metadata": {}
  },
  {
   "cell_type": "code",
   "execution_count": 15,
   "source": [
    "conteneur_main = soup.find(class_=\"panelResults\")\r\n",
    "covoits = conteneur_main.find_all(class_=\"kirk-tripCard-mainContainer\")"
   ],
   "outputs": [],
   "metadata": {}
  },
  {
   "cell_type": "code",
   "execution_count": 48,
   "source": [
    "infos_covoits = {}\r\n",
    "i = 1\r\n",
    "for covoit in covoits:\r\n",
    "    if covoit.find(class_=\"kirk-tripCard-main\").find_all(\"span\")[2].get_text() == \"Complet\":\r\n",
    "        pass\r\n",
    "    else:\r\n",
    "        prix = covoit.find(class_=\"kirk-tripCard-main\").find_all(\"span\")[3].get_text()\r\n",
    "        heure_depart = covoit.find(class_=\"kirk-tripCard-main\").find_all(\"time\")[0].get_text()\r\n",
    "        heure_arrive = covoit.find(class_=\"kirk-tripCard-main\").find_all(\"time\")[1].get_text()\r\n",
    "        temps_trajet = covoit.find(class_=\"kirk-timeDuration\").find(\"span\").get_text()\r\n",
    "        Conducteur = covoit.find(class_=\"kirk-item-leftText\").find(\"span\").get_text()\r\n",
    "        \r\n",
    "        infos_covoit = {\r\n",
    "            \"heure_depart\" : heure_depart,\r\n",
    "            \"heure_arrive\" : heure_arrive,\r\n",
    "            \"temps_trajet\" : temps_trajet,\r\n",
    "            \"prix\" : prix,\r\n",
    "            \"Conducteur\" : Conducteur\r\n",
    "        }\r\n",
    "        print(infos_covoit)\r\n",
    "        infos_covoits[i] = infos_covoit\r\n",
    "        i=i+1\r\n"
   ],
   "outputs": [
    {
     "output_type": "stream",
     "name": "stdout",
     "text": [
      "{'heure_depart': '06:30', 'heure_arrive': '14:20', 'temps_trajet': '7h50', 'prix': '43,00 €', 'Conducteur': 'Paul'}\n",
      "{'heure_depart': '07:30', 'heure_arrive': '15:30', 'temps_trajet': '8h00', 'prix': '54,00 €', 'Conducteur': 'Cyrilla'}\n",
      "{'heure_depart': '08:00', 'heure_arrive': '16:10', 'temps_trajet': '8h10', 'prix': '36,00 €', 'Conducteur': 'Mohamed'}\n",
      "{'heure_depart': '10:30', 'heure_arrive': '18:40', 'temps_trajet': '8h10', 'prix': '67,00 €', 'Conducteur': 'Coralie'}\n",
      "{'heure_depart': '17:30', 'heure_arrive': '02:00', 'temps_trajet': '8h30', 'prix': '41,00 €', 'Conducteur': 'Jeremy'}\n",
      "{'heure_depart': '22:45', 'heure_arrive': '09:20', 'temps_trajet': '10h35', 'prix': '18,99 €', 'Conducteur': 'BlaBlaCar Bus'}\n"
     ]
    }
   ],
   "metadata": {}
  },
  {
   "cell_type": "code",
   "execution_count": 49,
   "source": [
    "import json\n",
    "\n",
    "with open(\"sample.json\", \"w\") as outfile:\n",
    "    json.dump(infos_covoits, outfile)"
   ],
   "outputs": [],
   "metadata": {}
  },
  {
   "cell_type": "code",
   "execution_count": null,
   "source": [],
   "outputs": [],
   "metadata": {}
  }
 ],
 "metadata": {
  "interpreter": {
   "hash": "bd4c67ef142469da7dc4d338a32ac40116904d26076b8e6aa587d80720bc6a2b"
  },
  "kernelspec": {
   "display_name": "Python 3",
   "language": "python",
   "name": "python3"
  },
  "language_info": {
   "codemirror_mode": {
    "name": "ipython",
    "version": 3
   },
   "file_extension": ".py",
   "mimetype": "text/x-python",
   "name": "python",
   "nbconvert_exporter": "python",
   "pygments_lexer": "ipython3",
   "version": "3.9.4"
  }
 },
 "nbformat": 4,
 "nbformat_minor": 2
}