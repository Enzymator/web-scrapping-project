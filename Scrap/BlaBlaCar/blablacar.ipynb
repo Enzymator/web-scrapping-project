{
 "cells": [
  {
   "cell_type": "code",
   "execution_count": 2,
   "metadata": {},
   "outputs": [
    {
     "name": "stdout",
     "output_type": "stream",
     "text": [
      "Collecting pip\n",
      "  Downloading pip-21.2.4-py3-none-any.whl (1.6 MB)\n",
      "Installing collected packages: pip\n",
      "  Attempting uninstall: pip\n",
      "    Found existing installation: pip 20.2.4\n",
      "    Uninstalling pip-20.2.4:\n",
      "      Successfully uninstalled pip-20.2.4\n",
      "Successfully installed pip-21.2.4\n",
      "Note: you may need to restart the kernel to use updated packages.\n"
     ]
    }
   ],
   "source": [
    "pip install --upgrade pip\n",
    "pip install selenium"
   ]
  },
  {
   "cell_type": "code",
   "execution_count": 3,
   "metadata": {},
   "outputs": [
    {
     "name": "stdout",
     "output_type": "stream",
     "text": [
      "Requirement already satisfied: selenium in d:\\python39\\lib\\site-packages (3.141.0)\n",
      "Requirement already satisfied: urllib3 in d:\\python39\\lib\\site-packages (from selenium) (1.26.4)\n",
      "Note: you may need to restart the kernel to use updated packages.\n"
     ]
    }
   ],
   "source": []
  },
  {
   "cell_type": "code",
   "execution_count": 6,
   "metadata": {},
   "outputs": [],
   "source": [
    "# from selenium import webdriver\n",
    "# from selenium.webdriver.common.keys import Keys\n",
    "\n",
    "# driver.get(\"http://www.python.org\")\n",
    "# assert \"Python\" in driver.title\n",
    "# elem = driver.find_element_by_name(\"q\")\n",
    "# elem.clear()\n",
    "# elem.send_keys(\"pycon\")\n",
    "# elem.send_keys(Keys.RETURN)\n",
    "# assert \"No results found.\" not in driver.page_source\n",
    "# driver.close()"
   ]
  },
  {
   "cell_type": "code",
   "execution_count": 9,
   "metadata": {},
   "outputs": [],
   "source": [
    "from bs4 import BeautifulSoup as bs\n",
    "from selenium import webdriver\n",
    "driver = webdriver.Firefox(executable_path=r'C:\\Users\\Julie\\AppData\\Local\\Selenium\\geckodriver\\geckodriver.exe')\n",
    "\n",
    "url = \"https://www.blablacar.fr/search?fn=Paris%2C%20France&fc=48.856614%2C2.352221&fcc=FR&formatted_from=Paris&tn=Marseille%2C%20France&tc=43.296482%2C5.36978&tcc=FR&formatted_to=Marseille&db=2021-09-09&departure_location_id=eyJpIjoiQ2hJSkQ3ZmlCaDl1NWtjUllKU01hTU9DQ3dRIiwicCI6MSwidiI6MSwidCI6W119&arrival_location_id=eyJpIjoiQ2hJSk0xUGFSRU9feVJJUklBS1hfYVVaQ0FRIiwicCI6MSwidiI6MSwidCI6W119&departure_city=Paris&arrival_city=Marseille&seats=1&searchOrigin=search_edit\"\n",
    "\n",
    "driver.get(url)\n",
    "\n",
    "html = driver.page_source\n",
    "soup = bs(html)"
   ]
  },
  {
   "cell_type": "code",
   "execution_count": 15,
   "metadata": {},
   "outputs": [],
   "source": [
    "conteneur_main = soup.find(class_=\"panelResults\")\n",
    "covoits = conteneur_main.find_all(class_=\"kirk-tripCard-mainContainer\")"
   ]
  },
  {
   "cell_type": "code",
   "execution_count": 48,
   "metadata": {},
   "outputs": [
    {
     "name": "stdout",
     "output_type": "stream",
     "text": [
      "{'heure_depart': '06:30', 'heure_arrive': '14:20', 'temps_trajet': '7h50', 'prix': '43,00 €', 'Conducteur': 'Paul'}\n",
      "{'heure_depart': '07:30', 'heure_arrive': '15:30', 'temps_trajet': '8h00', 'prix': '54,00 €', 'Conducteur': 'Cyrilla'}\n",
      "{'heure_depart': '08:00', 'heure_arrive': '16:10', 'temps_trajet': '8h10', 'prix': '36,00 €', 'Conducteur': 'Mohamed'}\n",
      "{'heure_depart': '10:30', 'heure_arrive': '18:40', 'temps_trajet': '8h10', 'prix': '67,00 €', 'Conducteur': 'Coralie'}\n",
      "{'heure_depart': '17:30', 'heure_arrive': '02:00', 'temps_trajet': '8h30', 'prix': '41,00 €', 'Conducteur': 'Jeremy'}\n",
      "{'heure_depart': '22:45', 'heure_arrive': '09:20', 'temps_trajet': '10h35', 'prix': '18,99 €', 'Conducteur': 'BlaBlaCar Bus'}\n"
     ]
    }
   ],
   "source": [
    "infos_covoits = {}\n",
    "i = 1\n",
    "for covoit in covoits:\n",
    "    if covoit.find(class_=\"kirk-tripCard-main\").find_all(\"span\")[2].get_text() == \"Complet\":\n",
    "        pass\n",
    "    else:\n",
    "        prix = covoit.find(class_=\"kirk-tripCard-main\").find_all(\"span\")[3].get_text()\n",
    "        heure_depart = covoit.find(class_=\"kirk-tripCard-main\").find_all(\"time\")[0].get_text()\n",
    "        heure_arrive = covoit.find(class_=\"kirk-tripCard-main\").find_all(\"time\")[1].get_text()\n",
    "        temps_trajet = covoit.find(class_=\"kirk-timeDuration\").find(\"span\").get_text()\n",
    "        Conducteur = covoit.find(class_=\"kirk-item-leftText\").find(\"span\").get_text()\n",
    "        \n",
    "        infos_covoit = {\n",
    "            \"heure_depart\" : heure_depart,\n",
    "            \"heure_arrive\" : heure_arrive,\n",
    "            \"temps_trajet\" : temps_trajet,\n",
    "            \"prix\" : prix,\n",
    "            \"Conducteur\" : Conducteur\n",
    "        }\n",
    "        print(infos_covoit)\n",
    "        infos_covoits[i] = infos_covoit\n",
    "        i=i+1\n"
   ]
  },
  {
   "cell_type": "code",
   "execution_count": 49,
   "metadata": {},
   "outputs": [],
   "source": [
    "import json\n",
    "\n",
    "with open(\"sample.json\", \"w\") as outfile:\n",
    "    json.dump(infos_covoits, outfile)"
   ]
  },
  {
   "cell_type": "code",
   "execution_count": null,
   "metadata": {},
   "outputs": [],
   "source": []
  }
 ],
 "metadata": {
  "interpreter": {
   "hash": "bd4c67ef142469da7dc4d338a32ac40116904d26076b8e6aa587d80720bc6a2b"
  },
  "kernelspec": {
   "display_name": "Python 3 (ipykernel)",
   "language": "python",
   "name": "python3"
  },
  "language_info": {
   "codemirror_mode": {
    "name": "ipython",
    "version": 3
   },
   "file_extension": ".py",
   "mimetype": "text/x-python",
   "name": "python",
   "nbconvert_exporter": "python",
   "pygments_lexer": "ipython3",
   "version": "3.9.6"
  }
 },
 "nbformat": 4,
 "nbformat_minor": 2
}
